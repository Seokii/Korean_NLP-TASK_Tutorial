{
 "cells": [
  {
   "cell_type": "markdown",
   "id": "ace964be",
   "metadata": {},
   "source": [
    "# 도서자료 Text Summarization"
   ]
  },
  {
   "cell_type": "markdown",
   "id": "78d1d4d8",
   "metadata": {},
   "source": [
    "## 0) Import"
   ]
  },
  {
   "cell_type": "code",
   "execution_count": 1,
   "id": "c1f00ea7",
   "metadata": {},
   "outputs": [],
   "source": [
    "import os\n",
    "import pandas as pd\n",
    "import numpy as np\n",
    "import tensorflow as tf\n",
    "import matplotlib.pyplot as plt\n",
    "import seaborn as sns\n",
    "\n",
    "from collections import Counter\n",
    "from sklearn.model_selection import train_test_split\n",
    "\n",
    "from konlpy.tag import Komoran"
   ]
  },
  {
   "cell_type": "markdown",
   "id": "1f8a0578",
   "metadata": {},
   "source": [
    "## 1) AI Hub .json file to .csv file"
   ]
  },
  {
   "cell_type": "markdown",
   "id": "3ece485a",
   "metadata": {},
   "source": [
    "AI Hub의 도서자료 파일은 각각의 내용이 하나하나 json파일로 이루어져있습니다.  \n",
    "이를 통합하여 데이터프레임을 만들고 파일로 저장하는 코드입니다.  \n",
    "매우 시간이 오래 걸리니 변환한 csv파일을 사용하면 좋을 것 같습니다."
   ]
  },
  {
   "cell_type": "code",
   "execution_count": 2,
   "id": "31c07ff9",
   "metadata": {},
   "outputs": [
    {
     "name": "stdout",
     "output_type": "stream",
     "text": [
      "학습 데이터 개수 = 160002, 테스트 데이터 개수 = 19999\n"
     ]
    }
   ],
   "source": [
    "\"\"\"\n",
    "train_cnt = 0\n",
    "test_cnt = 0\n",
    "train_data_dir = \"../../dataset/BookSummarization/train/\"\n",
    "test_data_dir = \"../../dataset/BookSummarization/test/\"\n",
    "\n",
    "for path in os.listdir(train_data_dir):\n",
    "    if os.path.isfile(os.path.join(train_data_dir, path)):\n",
    "        train_cnt += 1\n",
    "\n",
    "for path in os.listdir(test_data_dir):\n",
    "    if os.path.isfile(os.path.join(test_data_dir, path)):\n",
    "        test_cnt += 1\n",
    "\n",
    "print(f'학습 데이터 개수 = {train_cnt}, 테스트 데이터 개수 = {test_cnt}')\n",
    "\"\"\""
   ]
  },
  {
   "cell_type": "code",
   "execution_count": 3,
   "id": "0a378a64",
   "metadata": {},
   "outputs": [],
   "source": [
    "\"\"\"\n",
    "test_passage_data = []\n",
    "test_summary_data = []\n",
    "\n",
    "for i in range(len(os.listdir(test_data_dir))):\n",
    "    target = pd.read_json(test_data_dir+os.listdir(test_data_dir)[i])\n",
    "    test_passage_data.append(target['passage'][0])\n",
    "    test_summary_data.append(target['summary'][0])\n",
    "    \n",
    "test_data = {\n",
    "    'passage': test_passage_data, 'summary': test_summary_data\n",
    "}\n",
    "\n",
    "test_df = pd.DataFrame(test_data)\n",
    "\n",
    "train_passage_data = []\n",
    "train_summary_data = []\n",
    "\n",
    "for i in range(len(os.listdir(train_data_dir))):\n",
    "    target = pd.read_json(train_data_dir+os.listdir(train_data_dir)[i])\n",
    "    train_passage_data.append(target['passage'][0])\n",
    "    train_summary_data.append(target['summary'][0])\n",
    "    \n",
    "train_data = {\n",
    "    'passage': train_passage_data, 'summary': train_summary_data\n",
    "}\n",
    "\n",
    "train_df = pd.DataFrame(train_data)\n",
    "\n",
    "train_df.to_csv(\"../../dataset/BookSummarization/train_df/Book_train.csv\")\n",
    "test_df.to_csv(\"../../dataset/BookSummarization/test_df/Book_test.csv\")\n",
    "\"\"\""
   ]
  },
  {
   "cell_type": "markdown",
   "id": "d8d82bd4",
   "metadata": {},
   "source": [
    "## 2) Load data and preprocess"
   ]
  },
  {
   "cell_type": "code",
   "execution_count": 10,
   "id": "351fd55b",
   "metadata": {},
   "outputs": [],
   "source": [
    "train = pd.read_csv('../../dataset/BookSummarization/train_df/Book_train.csv')\n",
    "test = pd.read_csv('../../dataset/BookSummarization/test_df/Book_test.csv')"
   ]
  },
  {
   "cell_type": "code",
   "execution_count": 12,
   "id": "91736092",
   "metadata": {},
   "outputs": [
    {
     "data": {
      "text/html": [
       "<div>\n",
       "<style scoped>\n",
       "    .dataframe tbody tr th:only-of-type {\n",
       "        vertical-align: middle;\n",
       "    }\n",
       "\n",
       "    .dataframe tbody tr th {\n",
       "        vertical-align: top;\n",
       "    }\n",
       "\n",
       "    .dataframe thead th {\n",
       "        text-align: right;\n",
       "    }\n",
       "</style>\n",
       "<table border=\"1\" class=\"dataframe\">\n",
       "  <thead>\n",
       "    <tr style=\"text-align: right;\">\n",
       "      <th></th>\n",
       "      <th>Unnamed: 0</th>\n",
       "      <th>passage</th>\n",
       "      <th>summary</th>\n",
       "    </tr>\n",
       "  </thead>\n",
       "  <tbody>\n",
       "    <tr>\n",
       "      <th>0</th>\n",
       "      <td>0</td>\n",
       "      <td>둘째, 제 16차 당 대회에서 공산당은 삼개대표 이론에 입각하여 생산력발전과 사회...</td>\n",
       "      <td>공산당은 16차 당대회에서 선진세력의 입당을 공식 허용했다. 이는 “당 건설 강화...</td>\n",
       "    </tr>\n",
       "    <tr>\n",
       "      <th>1</th>\n",
       "      <td>1</td>\n",
       "      <td>중앙기율검사위원회가 제출한 “기율보고”도 전과 크게 다른 점이 없었다. 청렴한 정...</td>\n",
       "      <td>16차 당 대회에서는 청렴한 정치풍토 수립, 반부패투쟁 강력 추진, 법제건설 강화 ...</td>\n",
       "    </tr>\n",
       "    <tr>\n",
       "      <th>2</th>\n",
       "      <td>2</td>\n",
       "      <td>한편, 중국정치를 연구하는 학자에게 ‘제3세대’ 지도자에서 ‘제4세대’지도자로의 ...</td>\n",
       "      <td>사회주의 정치체제는 정치지도자를 선발하는 제도적 장치가 제대로 안 갖추어져 있기 ...</td>\n",
       "    </tr>\n",
       "    <tr>\n",
       "      <th>3</th>\n",
       "      <td>3</td>\n",
       "      <td>2) 국가정책의 변화\\n 우리는 전국인대 대표들이 심의한 국무원의 “정부업무보고”...</td>\n",
       "      <td>정부업무보고 등은 중국정부의 정책변화, 총리와 주요정책임자의 기자회견은 중국정부의...</td>\n",
       "    </tr>\n",
       "    <tr>\n",
       "      <th>4</th>\n",
       "      <td>4</td>\n",
       "      <td>중국 정부의 2003년 예산도 이와 같은 정책방침에 맞추어 편성되었다. 우선 정부가...</td>\n",
       "      <td>중국 정부의 핵심지출 항목순서는 농촌경제 발전지출, 사회보장 지출 등으로 이어진다....</td>\n",
       "    </tr>\n",
       "  </tbody>\n",
       "</table>\n",
       "</div>"
      ],
      "text/plain": [
       "   Unnamed: 0                                            passage  \\\n",
       "0           0   둘째, 제 16차 당 대회에서 공산당은 삼개대표 이론에 입각하여 생산력발전과 사회...   \n",
       "1           1   중앙기율검사위원회가 제출한 “기율보고”도 전과 크게 다른 점이 없었다. 청렴한 정...   \n",
       "2           2   한편, 중국정치를 연구하는 학자에게 ‘제3세대’ 지도자에서 ‘제4세대’지도자로의 ...   \n",
       "3           3   2) 국가정책의 변화\\n 우리는 전국인대 대표들이 심의한 국무원의 “정부업무보고”...   \n",
       "4           4  중국 정부의 2003년 예산도 이와 같은 정책방침에 맞추어 편성되었다. 우선 정부가...   \n",
       "\n",
       "                                             summary  \n",
       "0   공산당은 16차 당대회에서 선진세력의 입당을 공식 허용했다. 이는 “당 건설 강화...  \n",
       "1  16차 당 대회에서는 청렴한 정치풍토 수립, 반부패투쟁 강력 추진, 법제건설 강화 ...  \n",
       "2   사회주의 정치체제는 정치지도자를 선발하는 제도적 장치가 제대로 안 갖추어져 있기 ...  \n",
       "3   정부업무보고 등은 중국정부의 정책변화, 총리와 주요정책임자의 기자회견은 중국정부의...  \n",
       "4  중국 정부의 핵심지출 항목순서는 농촌경제 발전지출, 사회보장 지출 등으로 이어진다....  "
      ]
     },
     "execution_count": 12,
     "metadata": {},
     "output_type": "execute_result"
    }
   ],
   "source": [
    "train.head()"
   ]
  },
  {
   "cell_type": "code",
   "execution_count": 13,
   "id": "586751ef",
   "metadata": {},
   "outputs": [
    {
     "data": {
      "text/html": [
       "<div>\n",
       "<style scoped>\n",
       "    .dataframe tbody tr th:only-of-type {\n",
       "        vertical-align: middle;\n",
       "    }\n",
       "\n",
       "    .dataframe tbody tr th {\n",
       "        vertical-align: top;\n",
       "    }\n",
       "\n",
       "    .dataframe thead th {\n",
       "        text-align: right;\n",
       "    }\n",
       "</style>\n",
       "<table border=\"1\" class=\"dataframe\">\n",
       "  <thead>\n",
       "    <tr style=\"text-align: right;\">\n",
       "      <th></th>\n",
       "      <th>Unnamed: 0</th>\n",
       "      <th>passage</th>\n",
       "      <th>summary</th>\n",
       "    </tr>\n",
       "  </thead>\n",
       "  <tbody>\n",
       "    <tr>\n",
       "      <th>0</th>\n",
       "      <td>0</td>\n",
       "      <td>이 장은 후진타오(호금도) 시대가 어떤 과정을 통해 등장했는가를 검토하는 것이다....</td>\n",
       "      <td>후진타오 시대는 제 3세대 지도자가 물러나며 제 4세대 지도자가 새로운 통치 집단...</td>\n",
       "    </tr>\n",
       "    <tr>\n",
       "      <th>1</th>\n",
       "      <td>1</td>\n",
       "      <td>한편 사영기업가의 입당허용이 단기간에 중국정치에 변화를 몰고 올 것 같지는 않다....</td>\n",
       "      <td>사영기업가 계층은 국가의 통제를 아직 벗어나지 못했다는 등의 이유로 단기간에 중국...</td>\n",
       "    </tr>\n",
       "    <tr>\n",
       "      <th>2</th>\n",
       "      <td>2</td>\n",
       "      <td>그런데 제 16차 당 대회에서는 민족주의를 강조하는 경향이 이전보다 더욱 두드러졌...</td>\n",
       "      <td>공산당이 국민정당에 대해 민족정당이 된 것, 정치보고에 민족정신 등에 대한 강조가...</td>\n",
       "    </tr>\n",
       "    <tr>\n",
       "      <th>3</th>\n",
       "      <td>3</td>\n",
       "      <td>2.3.2 제10기 전국인민대표대회 제 1차 회의(2003년)\\n 2003년 3월 ...</td>\n",
       "      <td>2003년의 10기 전국인대 1차 회의는 주요 국가지도자에 대한 인선이 있었고 공...</td>\n",
       "    </tr>\n",
       "    <tr>\n",
       "      <th>4</th>\n",
       "      <td>4</td>\n",
       "      <td>1) 인선에 대한 총괄평가\\n 제 10기 전국인대 제 1차 회의에서 선출(비준)된...</td>\n",
       "      <td>10기 전국인대 1차 회의는 완전하고 실질적인 권력이양이 이루어지지 않았다. 이에...</td>\n",
       "    </tr>\n",
       "  </tbody>\n",
       "</table>\n",
       "</div>"
      ],
      "text/plain": [
       "   Unnamed: 0                                            passage  \\\n",
       "0           0   이 장은 후진타오(호금도) 시대가 어떤 과정을 통해 등장했는가를 검토하는 것이다....   \n",
       "1           1   한편 사영기업가의 입당허용이 단기간에 중국정치에 변화를 몰고 올 것 같지는 않다....   \n",
       "2           2   그런데 제 16차 당 대회에서는 민족주의를 강조하는 경향이 이전보다 더욱 두드러졌...   \n",
       "3           3  2.3.2 제10기 전국인민대표대회 제 1차 회의(2003년)\\n 2003년 3월 ...   \n",
       "4           4   1) 인선에 대한 총괄평가\\n 제 10기 전국인대 제 1차 회의에서 선출(비준)된...   \n",
       "\n",
       "                                             summary  \n",
       "0   후진타오 시대는 제 3세대 지도자가 물러나며 제 4세대 지도자가 새로운 통치 집단...  \n",
       "1   사영기업가 계층은 국가의 통제를 아직 벗어나지 못했다는 등의 이유로 단기간에 중국...  \n",
       "2   공산당이 국민정당에 대해 민족정당이 된 것, 정치보고에 민족정신 등에 대한 강조가...  \n",
       "3   2003년의 10기 전국인대 1차 회의는 주요 국가지도자에 대한 인선이 있었고 공...  \n",
       "4   10기 전국인대 1차 회의는 완전하고 실질적인 권력이양이 이루어지지 않았다. 이에...  "
      ]
     },
     "execution_count": 13,
     "metadata": {},
     "output_type": "execute_result"
    }
   ],
   "source": [
    "test.head()"
   ]
  },
  {
   "cell_type": "code",
   "execution_count": null,
   "id": "6657ba77",
   "metadata": {},
   "outputs": [],
   "source": []
  }
 ],
 "metadata": {
  "kernelspec": {
   "display_name": "Python 3 (ipykernel)",
   "language": "python",
   "name": "python3"
  },
  "language_info": {
   "codemirror_mode": {
    "name": "ipython",
    "version": 3
   },
   "file_extension": ".py",
   "mimetype": "text/x-python",
   "name": "python",
   "nbconvert_exporter": "python",
   "pygments_lexer": "ipython3",
   "version": "3.8.5"
  }
 },
 "nbformat": 4,
 "nbformat_minor": 5
}
