{
 "cells": [
  {
   "cell_type": "markdown",
   "id": "27941657",
   "metadata": {},
   "source": [
    "## 0. Import"
   ]
  },
  {
   "cell_type": "code",
   "execution_count": 1,
   "id": "0a7e78fb",
   "metadata": {},
   "outputs": [],
   "source": [
    "import numpy as np\n",
    "import pandas as pd\n",
    "import seaborn as sns\n",
    "import matplotlib.pyplot as plt\n",
    "\n",
    "import tensorflow as tf\n",
    "from tensorflow.keras.layers import Dense,Input\n",
    "from tensorflow.keras.models import Model\n",
    "from tensorflow.keras.optimizers import Adam\n",
    "\n",
    "from transformers import TFElectraModel\n",
    "from transformers import ElectraTokenizer\n",
    "\n",
    "from sklearn.preprocessing import LabelEncoder\n",
    "from sklearn.model_selection import train_test_split\n",
    "from sklearn.metrics import accuracy_score"
   ]
  },
  {
   "cell_type": "code",
   "execution_count": 2,
   "id": "78cf87b6",
   "metadata": {},
   "outputs": [],
   "source": [
    "strategy = tf.distribute.get_strategy()"
   ]
  },
  {
   "cell_type": "markdown",
   "id": "d4382506",
   "metadata": {},
   "source": [
    "## 1. Load Dataset"
   ]
  },
  {
   "cell_type": "code",
   "execution_count": 3,
   "id": "23bf6ddf",
   "metadata": {},
   "outputs": [
    {
     "name": "stderr",
     "output_type": "stream",
     "text": [
      "Reusing dataset klue (C:\\Users\\Home\\.cache\\huggingface\\datasets\\klue\\nli\\1.0.0\\e0fc3bc3de3eb03be2c92d72fd04a60ecc71903f821619cb28ca0e1e29e4233e)\n"
     ]
    },
    {
     "data": {
      "application/vnd.jupyter.widget-view+json": {
       "model_id": "f4f3c3495ba947e89aa95b7bb0048eb5",
       "version_major": 2,
       "version_minor": 0
      },
      "text/plain": [
       "  0%|          | 0/2 [00:00<?, ?it/s]"
      ]
     },
     "metadata": {},
     "output_type": "display_data"
    }
   ],
   "source": [
    "import datasets\n",
    "from datasets import load_dataset, load_metric, ClassLabel, Sequence\n",
    "\n",
    "task = \"nli\"\n",
    "datasets = load_dataset(\"klue\", task)"
   ]
  },
  {
   "cell_type": "code",
   "execution_count": 4,
   "id": "3879a060",
   "metadata": {},
   "outputs": [],
   "source": [
    "train_premise = datasets[\"train\"][\"premise\"]\n",
    "train_hypothesis = datasets[\"train\"][\"hypothesis\"]\n",
    "train_label = datasets[\"train\"][\"label\"]\n",
    "\n",
    "test_premise = datasets[\"validation\"][\"premise\"]\n",
    "test_hypothesis = datasets[\"validation\"][\"hypothesis\"]\n",
    "test_label = datasets[\"validation\"][\"label\"]"
   ]
  },
  {
   "cell_type": "code",
   "execution_count": 5,
   "id": "f3f86029",
   "metadata": {},
   "outputs": [],
   "source": [
    "train = pd.DataFrame({\"premise\":train_premise,\n",
    "                         \"hypothesis\":train_hypothesis,\n",
    "                         \"label\":train_label})\n",
    "test = pd.DataFrame({\"premise\":test_premise,\n",
    "                         \"hypothesis\":test_hypothesis,\n",
    "                         \"label\":test_label})"
   ]
  },
  {
   "cell_type": "code",
   "execution_count": 6,
   "id": "9924893d",
   "metadata": {},
   "outputs": [
    {
     "data": {
      "text/html": [
       "<div>\n",
       "<style scoped>\n",
       "    .dataframe tbody tr th:only-of-type {\n",
       "        vertical-align: middle;\n",
       "    }\n",
       "\n",
       "    .dataframe tbody tr th {\n",
       "        vertical-align: top;\n",
       "    }\n",
       "\n",
       "    .dataframe thead th {\n",
       "        text-align: right;\n",
       "    }\n",
       "</style>\n",
       "<table border=\"1\" class=\"dataframe\">\n",
       "  <thead>\n",
       "    <tr style=\"text-align: right;\">\n",
       "      <th></th>\n",
       "      <th>premise</th>\n",
       "      <th>hypothesis</th>\n",
       "      <th>label</th>\n",
       "    </tr>\n",
       "  </thead>\n",
       "  <tbody>\n",
       "    <tr>\n",
       "      <th>0</th>\n",
       "      <td>힛걸 진심 최고다 그 어떤 히어로보다 멋지다</td>\n",
       "      <td>힛걸 진심 최고로 멋지다.</td>\n",
       "      <td>0</td>\n",
       "    </tr>\n",
       "    <tr>\n",
       "      <th>1</th>\n",
       "      <td>100분간 잘껄 그래도 소닉붐땜에 2점준다</td>\n",
       "      <td>100분간 잤다.</td>\n",
       "      <td>2</td>\n",
       "    </tr>\n",
       "    <tr>\n",
       "      <th>2</th>\n",
       "      <td>100분간 잘껄 그래도 소닉붐땜에 2점준다</td>\n",
       "      <td>소닉붐이 정말 멋있었다.</td>\n",
       "      <td>1</td>\n",
       "    </tr>\n",
       "    <tr>\n",
       "      <th>3</th>\n",
       "      <td>100분간 잘껄 그래도 소닉붐땜에 2점준다</td>\n",
       "      <td>100분간 자는게 더 나았을 것 같다.</td>\n",
       "      <td>1</td>\n",
       "    </tr>\n",
       "    <tr>\n",
       "      <th>4</th>\n",
       "      <td>101빌딩 근처에 나름 즐길거리가 많습니다.</td>\n",
       "      <td>101빌딩 근처에서 즐길거리 찾기는 어렵습니다.</td>\n",
       "      <td>2</td>\n",
       "    </tr>\n",
       "  </tbody>\n",
       "</table>\n",
       "</div>"
      ],
      "text/plain": [
       "                    premise                  hypothesis  label\n",
       "0  힛걸 진심 최고다 그 어떤 히어로보다 멋지다              힛걸 진심 최고로 멋지다.      0\n",
       "1   100분간 잘껄 그래도 소닉붐땜에 2점준다                   100분간 잤다.      2\n",
       "2   100분간 잘껄 그래도 소닉붐땜에 2점준다               소닉붐이 정말 멋있었다.      1\n",
       "3   100분간 잘껄 그래도 소닉붐땜에 2점준다       100분간 자는게 더 나았을 것 같다.      1\n",
       "4  101빌딩 근처에 나름 즐길거리가 많습니다.  101빌딩 근처에서 즐길거리 찾기는 어렵습니다.      2"
      ]
     },
     "execution_count": 6,
     "metadata": {},
     "output_type": "execute_result"
    }
   ],
   "source": [
    "train.head()"
   ]
  },
  {
   "cell_type": "code",
   "execution_count": 7,
   "id": "bcb7ac3d",
   "metadata": {},
   "outputs": [
    {
     "data": {
      "text/html": [
       "<div>\n",
       "<style scoped>\n",
       "    .dataframe tbody tr th:only-of-type {\n",
       "        vertical-align: middle;\n",
       "    }\n",
       "\n",
       "    .dataframe tbody tr th {\n",
       "        vertical-align: top;\n",
       "    }\n",
       "\n",
       "    .dataframe thead th {\n",
       "        text-align: right;\n",
       "    }\n",
       "</style>\n",
       "<table border=\"1\" class=\"dataframe\">\n",
       "  <thead>\n",
       "    <tr style=\"text-align: right;\">\n",
       "      <th></th>\n",
       "      <th>premise</th>\n",
       "      <th>hypothesis</th>\n",
       "      <th>label</th>\n",
       "    </tr>\n",
       "  </thead>\n",
       "  <tbody>\n",
       "    <tr>\n",
       "      <th>0</th>\n",
       "      <td>흡연자분들은 발코니가 있는 방이면 발코니에서 흡연이 가능합니다.</td>\n",
       "      <td>어떤 방에서도 흡연은 금지됩니다.</td>\n",
       "      <td>2</td>\n",
       "    </tr>\n",
       "    <tr>\n",
       "      <th>1</th>\n",
       "      <td>10명이 함께 사용하기 불편함없이 만족했다.</td>\n",
       "      <td>10명이 함께 사용하기 불편함이 많았다.</td>\n",
       "      <td>2</td>\n",
       "    </tr>\n",
       "    <tr>\n",
       "      <th>2</th>\n",
       "      <td>10명이 함께 사용하기 불편함없이 만족했다.</td>\n",
       "      <td>성인 10명이 함께 사용하기 불편함없이 없었다.</td>\n",
       "      <td>1</td>\n",
       "    </tr>\n",
       "    <tr>\n",
       "      <th>3</th>\n",
       "      <td>10명이 함께 사용하기 불편함없이 만족했다.</td>\n",
       "      <td>10명이 함께 사용하기에 만족스러웠다.</td>\n",
       "      <td>0</td>\n",
       "    </tr>\n",
       "    <tr>\n",
       "      <th>4</th>\n",
       "      <td>10층에 건물사람들만 이용하는 수영장과 썬베드들이 있구요.</td>\n",
       "      <td>건물사람들은 수영장과 썬베드를 이용할 수 있습니다.</td>\n",
       "      <td>0</td>\n",
       "    </tr>\n",
       "  </tbody>\n",
       "</table>\n",
       "</div>"
      ],
      "text/plain": [
       "                               premise                    hypothesis  label\n",
       "0  흡연자분들은 발코니가 있는 방이면 발코니에서 흡연이 가능합니다.            어떤 방에서도 흡연은 금지됩니다.      2\n",
       "1             10명이 함께 사용하기 불편함없이 만족했다.        10명이 함께 사용하기 불편함이 많았다.      2\n",
       "2             10명이 함께 사용하기 불편함없이 만족했다.    성인 10명이 함께 사용하기 불편함없이 없었다.      1\n",
       "3             10명이 함께 사용하기 불편함없이 만족했다.         10명이 함께 사용하기에 만족스러웠다.      0\n",
       "4     10층에 건물사람들만 이용하는 수영장과 썬베드들이 있구요.  건물사람들은 수영장과 썬베드를 이용할 수 있습니다.      0"
      ]
     },
     "execution_count": 7,
     "metadata": {},
     "output_type": "execute_result"
    }
   ],
   "source": [
    "test.head()"
   ]
  },
  {
   "cell_type": "code",
   "execution_count": 8,
   "id": "a66ce7e3",
   "metadata": {},
   "outputs": [
    {
     "name": "stdout",
     "output_type": "stream",
     "text": [
      "train shape => (24998, 3) \n",
      "test shape => (3000, 3)\n"
     ]
    }
   ],
   "source": [
    "print(f\"train shape => {train.shape} \\ntest shape => {test.shape}\")"
   ]
  },
  {
   "cell_type": "markdown",
   "id": "34d153e7",
   "metadata": {},
   "source": [
    "## 2. EDA"
   ]
  },
  {
   "cell_type": "markdown",
   "id": "9804aa92",
   "metadata": {},
   "source": [
    "### 2.1. 결측치 제거"
   ]
  },
  {
   "cell_type": "code",
   "execution_count": 9,
   "id": "ec04a682",
   "metadata": {},
   "outputs": [
    {
     "data": {
      "text/plain": [
       "premise       0\n",
       "hypothesis    0\n",
       "label         0\n",
       "dtype: int64"
      ]
     },
     "execution_count": 9,
     "metadata": {},
     "output_type": "execute_result"
    }
   ],
   "source": [
    "train.isnull().sum()"
   ]
  },
  {
   "cell_type": "code",
   "execution_count": 10,
   "id": "782b8623",
   "metadata": {},
   "outputs": [],
   "source": [
    "# 결측값가 존재한다면, 결측값 제거\n",
    "# train.dropna(inplace=True)"
   ]
  },
  {
   "cell_type": "markdown",
   "id": "120133c5",
   "metadata": {},
   "source": [
    "### 2.3. 클래스 불균형 확인"
   ]
  },
  {
   "cell_type": "code",
   "execution_count": 11,
   "id": "a7377f98",
   "metadata": {},
   "outputs": [
    {
     "data": {
      "image/png": "[encoded data removed]",
      "text/plain": [
       "<Figure size 432x288 with 1 Axes>"
      ]
     },
     "metadata": {},
     "output_type": "display_data"
    }
   ],
   "source": [
    "sns.set_theme(style=\"darkgrid\")\n",
    "ax = sns.countplot(x=\"label\", data=train)"
   ]
  },
  {
   "cell_type": "code",
   "execution_count": 12,
   "id": "12bc6a47",
   "metadata": {},
   "outputs": [
    {
     "data": {
      "image/png": "[encoded data removed]",
      "text/plain": [
       "<Figure size 360x360 with 1 Axes>"
      ]
     },
     "metadata": {},
     "output_type": "display_data"
    }
   ],
   "source": [
    "labels, frequencies = np.unique(train.label.values, return_counts=True)\n",
    "plt.figure(figsize=(5,5))\n",
    "plt.pie(frequencies, labels = labels, autopct= '%1.1f%%')\n",
    "plt.show()"
   ]
  },
  {
   "cell_type": "markdown",
   "id": "2de98f3e",
   "metadata": {},
   "source": [
    "## 3. Modeling"
   ]
  },
  {
   "cell_type": "markdown",
   "id": "e137ad7a",
   "metadata": {},
   "source": [
    "### 3.1. 토크나이저 선언"
   ]
  },
  {
   "cell_type": "code",
   "execution_count": 13,
   "id": "294aad4c",
   "metadata": {},
   "outputs": [],
   "source": [
    "tokenizer = ElectraTokenizer.from_pretrained(\"monologg/koelectra-base-v3-discriminator\")"
   ]
  },
  {
   "cell_type": "markdown",
   "id": "4b2a080a",
   "metadata": {},
   "source": [
    "### 3.2. 훈련 데이터 전처리"
   ]
  },
  {
   "cell_type": "markdown",
   "id": "056790e9",
   "metadata": {},
   "source": [
    "훈련데이터에 대해 각 문장에 대한 인코딩을 수행하고 패딩을 맞춰주는 전처리 작업을 진행합니다.  \n",
    "토크나이징이 진행된 문장들에 대해 평균, 최대, 표준편차, 시각화를 통해 적절한 패딩 길이를 계산합니다.  \n",
    "그 이후, 훈련데이터를 8:2 비율로 훈련데이터와 검증데이터를 나눕니다.  "
   ]
  },
  {
   "cell_type": "markdown",
   "id": "20252fb2",
   "metadata": {},
   "source": [
    "#### 패딩 적절 길이 구하기"
   ]
  },
  {
   "cell_type": "code",
   "execution_count": 14,
   "id": "2f230415",
   "metadata": {},
   "outputs": [],
   "source": [
    "train_data = train[['premise', 'hypothesis']].values.tolist()\n",
    "test_data = test[['premise', 'hypothesis']].values.tolist()"
   ]
  },
  {
   "cell_type": "code",
   "execution_count": 15,
   "id": "0e4519af",
   "metadata": {},
   "outputs": [],
   "source": [
    "train_encoded_electra = tokenizer.batch_encode_plus(train_data)\n",
    "test_encoded_electra = tokenizer.batch_encode_plus(test_data)"
   ]
  },
  {
   "cell_type": "code",
   "execution_count": 16,
   "id": "53dc1d54",
   "metadata": {},
   "outputs": [
    {
     "name": "stdout",
     "output_type": "stream",
     "text": [
      "토큰 길이 평균: 40.567969140652906\n",
      "토큰 길이 최대: 98\n",
      "토큰 길이 표준편차: 13.617052076270076\n"
     ]
    }
   ],
   "source": [
    "cal_length = train_encoded_electra['input_ids'] + test_encoded_electra['input_ids']\n",
    "\n",
    "num_tokens = [len(tokens) for tokens in cal_length]\n",
    "num_tokens = np.array(num_tokens)\n",
    "\n",
    "# 평균값, 최댓값, 표준편차\n",
    "print(f\"토큰 길이 평균: {np.mean(num_tokens)}\")\n",
    "print(f\"토큰 길이 최대: {np.max(num_tokens)}\")\n",
    "print(f\"토큰 길이 표준편차: {np.std(num_tokens)}\")"
   ]
  },
  {
   "cell_type": "code",
   "execution_count": 17,
   "id": "6155fe84",
   "metadata": {},
   "outputs": [
    {
     "name": "stdout",
     "output_type": "stream",
     "text": [
      "토큰 길이 최대: 88\n"
     ]
    }
   ],
   "source": [
    "test_num_tokens_electra = [len(tokens) for tokens in test_encoded_electra['input_ids']]\n",
    "print(f\"토큰 길이 최대: {np.max(test_num_tokens_electra)}\")"
   ]
  },
  {
   "cell_type": "code",
   "execution_count": 18,
   "id": "f167f432",
   "metadata": {},
   "outputs": [
    {
     "data": {
      "image/png": "[encoded data removed]",
      "text/plain": [
       "<Figure size 432x288 with 1 Axes>"
      ]
     },
     "metadata": {},
     "output_type": "display_data"
    }
   ],
   "source": [
    "plt.title('all text length')\n",
    "plt.hist(num_tokens, bins=100)\n",
    "plt.xlabel('length of samples')\n",
    "plt.ylabel('number of samples')\n",
    "plt.show()"
   ]
  },
  {
   "cell_type": "code",
   "execution_count": 19,
   "id": "55a5085e",
   "metadata": {},
   "outputs": [],
   "source": [
    "select_length = 90"
   ]
  },
  {
   "cell_type": "code",
   "execution_count": 20,
   "id": "74f2cddc",
   "metadata": {},
   "outputs": [],
   "source": [
    "def below_threshold_len(max_len, nested_list):\n",
    "    cnt = 0\n",
    "    for s in nested_list:\n",
    "        if(len(s) <= max_len):\n",
    "            cnt = cnt + 1\n",
    "        \n",
    "    print('전체 샘플 중 길이가 %s 이하인 샘플의 비율: %s'%(max_len, (cnt / len(nested_list))))"
   ]
  },
  {
   "cell_type": "code",
   "execution_count": 21,
   "id": "8e7a9e90",
   "metadata": {},
   "outputs": [
    {
     "name": "stdout",
     "output_type": "stream",
     "text": [
      "전체 샘플 중 길이가 90 이하인 샘플의 비율: 0.9993928137724123\n"
     ]
    }
   ],
   "source": [
    "below_threshold_len(select_length, cal_length)"
   ]
  },
  {
   "cell_type": "markdown",
   "id": "6118b3c4",
   "metadata": {},
   "source": [
    "#### 길이가 90 이상인 데이터 삭제"
   ]
  },
  {
   "cell_type": "code",
   "execution_count": 22,
   "id": "7ed4c3a5",
   "metadata": {},
   "outputs": [],
   "source": [
    "temp = []\n",
    "for i in range(len(train_encoded_electra['input_ids'])):\n",
    "    if len(train_encoded_electra['input_ids'][i]) > select_length:\n",
    "        temp.append(i)\n",
    "\n",
    "temp.reverse()\n",
    "\n",
    "for i in temp:\n",
    "    del train_data[i]\n",
    "    train.drop(train.index[i], inplace=True)\n",
    "    \n",
    "temp = []\n",
    "for i in range(len(test_encoded_electra['input_ids'])):\n",
    "    if len(test_encoded_electra['input_ids'][i]) > select_length:\n",
    "        temp.append(i)\n",
    "\n",
    "temp.reverse()\n",
    "\n",
    "for i in temp:\n",
    "    del test_data[i]\n",
    "    test.drop(test.index[i], inplace=True)"
   ]
  },
  {
   "cell_type": "code",
   "execution_count": 23,
   "id": "096062df",
   "metadata": {},
   "outputs": [],
   "source": [
    "train_data = train[['premise', 'hypothesis']].values.tolist()\n",
    "test_data = test[['premise', 'hypothesis']].values.tolist()"
   ]
  },
  {
   "cell_type": "code",
   "execution_count": 24,
   "id": "970dae45",
   "metadata": {},
   "outputs": [],
   "source": [
    "train_encoded_electra = tokenizer.batch_encode_plus(train_data)\n",
    "test_encoded_electra = tokenizer.batch_encode_plus(test_data)"
   ]
  },
  {
   "cell_type": "code",
   "execution_count": 25,
   "id": "c5d7f508",
   "metadata": {},
   "outputs": [],
   "source": [
    "cal_length = train_encoded_electra['input_ids'] + test_encoded_electra['input_ids']"
   ]
  },
  {
   "cell_type": "code",
   "execution_count": 26,
   "id": "5ef5f04d",
   "metadata": {},
   "outputs": [
    {
     "name": "stdout",
     "output_type": "stream",
     "text": [
      "전체 샘플 중 길이가 90 이하인 샘플의 비율: 1.0\n"
     ]
    }
   ],
   "source": [
    "below_threshold_len(select_length, cal_length)"
   ]
  },
  {
   "cell_type": "code",
   "execution_count": 27,
   "id": "e030609c",
   "metadata": {},
   "outputs": [
    {
     "data": {
      "text/plain": [
       "24981"
      ]
     },
     "execution_count": 27,
     "metadata": {},
     "output_type": "execute_result"
    }
   ],
   "source": [
    "len(train_data)"
   ]
  },
  {
   "cell_type": "code",
   "execution_count": 28,
   "id": "4f3ef8b7",
   "metadata": {},
   "outputs": [
    {
     "data": {
      "text/plain": [
       "3000"
      ]
     },
     "execution_count": 28,
     "metadata": {},
     "output_type": "execute_result"
    }
   ],
   "source": [
    "len(test_data)"
   ]
  },
  {
   "cell_type": "markdown",
   "id": "9a236d52",
   "metadata": {},
   "source": [
    "최종 예측을 진행할 테스트 데이터에서 측정된 최대 토큰 길이는 98입니다.  \n",
    "테스트 데이터는 삭제하면 안되기 때문에, 패딩 길이는 88이상이어야 합니다.  \n",
    "따라서, 패딩 길이를 90으로 설정하고, 90 이하인 데이터에 대해 삭제를 진행했습니다.  "
   ]
  },
  {
   "cell_type": "markdown",
   "id": "e8fc8268",
   "metadata": {},
   "source": [
    "### 3.3. ELECTRA Modeling"
   ]
  },
  {
   "cell_type": "code",
   "execution_count": 29,
   "id": "16eff8ab",
   "metadata": {},
   "outputs": [],
   "source": [
    "train_encoded_electra = tokenizer.batch_encode_plus(train_data, padding='max_length', max_length=90)\n",
    "test_encoded_electra = tokenizer.batch_encode_plus(test_data, padding='max_length', max_length=90)"
   ]
  },
  {
   "cell_type": "code",
   "execution_count": 30,
   "id": "d804c2ab",
   "metadata": {},
   "outputs": [],
   "source": [
    "x_train, x_valid, y_train, y_valid = train_test_split(train_encoded_electra['input_ids'], train.label.values, test_size=0.3, random_state=777)\n",
    "x_test = test_encoded_electra['input_ids']"
   ]
  },
  {
   "cell_type": "code",
   "execution_count": 31,
   "id": "1291ff5d",
   "metadata": {},
   "outputs": [],
   "source": [
    "train_dataset = (tf.data.Dataset.from_tensor_slices((x_train, y_train)).repeat().shuffle(2048).batch(20 * strategy.num_replicas_in_sync).prefetch(tf.data.experimental.AUTOTUNE))\n",
    "valid_dataset = (tf.data.Dataset.from_tensor_slices((x_valid, y_valid)).batch(20 * strategy.num_replicas_in_sync).cache().prefetch(tf.data.experimental.AUTOTUNE))\n",
    "test_dataset = (tf.data.Dataset.from_tensor_slices(x_test).batch(20 * strategy.num_replicas_in_sync))"
   ]
  },
  {
   "cell_type": "code",
   "execution_count": 32,
   "id": "b2a91558",
   "metadata": {},
   "outputs": [],
   "source": [
    "def model_KoELECTRA():\n",
    "    with strategy.scope():\n",
    "        encoder = TFElectraModel.from_pretrained(\"monologg/koelectra-base-v3-discriminator\", from_pt=True)\n",
    "\n",
    "        input_layer = Input(shape=(90,), dtype=tf.int32, name=\"input_layer\")\n",
    "        sequence_output = encoder(input_layer)[0]\n",
    "\n",
    "        cls_token = sequence_output[:, 0, :]\n",
    "\n",
    "        output_layer = Dense(3, activation='softmax')(cls_token)\n",
    "\n",
    "        model = Model(inputs=input_layer, outputs=output_layer)\n",
    "        model.compile(Adam(lr=1e-5), loss='sparse_categorical_crossentropy', metrics=['accuracy'])\n",
    "    \n",
    "    return model"
   ]
  },
  {
   "cell_type": "markdown",
   "id": "3834189b",
   "metadata": {},
   "source": [
    "모델을 로딩하는 아래 코드에 대해 \"OSError: [WinError 127] 지정된 프로시저를 찾을 수 없습니다. Error loading\"  \n",
    "발생 시, PyTorch 버전을 1.5.1 이하로 재설치하면 해결 가능."
   ]
  },
  {
   "cell_type": "code",
   "execution_count": 33,
   "id": "10cc8550",
   "metadata": {
    "scrolled": false
   },
   "outputs": [
    {
     "name": "stderr",
     "output_type": "stream",
     "text": [
      "Some weights of the PyTorch model were not used when initializing the TF 2.0 model TFElectraModel: ['discriminator_predictions.dense.bias', 'discriminator_predictions.dense.weight', 'discriminator_predictions.dense_prediction.weight', 'discriminator_predictions.dense_prediction.bias', 'electra.embeddings.position_ids']\n",
      "- This IS expected if you are initializing TFElectraModel from a PyTorch model trained on another task or with another architecture (e.g. initializing a TFBertForSequenceClassification model from a BertForPreTraining model).\n",
      "- This IS NOT expected if you are initializing TFElectraModel from a PyTorch model that you expect to be exactly identical (e.g. initializing a TFBertForSequenceClassification model from a BertForSequenceClassification model).\n",
      "All the weights of TFElectraModel were initialized from the PyTorch model.\n",
      "If your task is similar to the task the model of the checkpoint was trained on, you can already use TFElectraModel for predictions without further training.\n"
     ]
    },
    {
     "name": "stdout",
     "output_type": "stream",
     "text": [
      "WARNING:tensorflow:The parameters `output_attentions`, `output_hidden_states` and `use_cache` cannot be updated when calling a model.They have to be set to True/False in the config object (i.e.: `config=XConfig.from_pretrained('name', output_attentions=True)`).\n",
      "WARNING:tensorflow:AutoGraph could not transform <bound method Socket.send of <zmq.Socket(zmq.PUSH) at 0x29e910de280>> and will run it as-is.\n",
      "Please report this to the TensorFlow team. When filing the bug, set the verbosity to 10 (on Linux, `export AUTOGRAPH_VERBOSITY=10`) and attach the full output.\n",
      "Cause: module, class, method, function, traceback, frame, or code object was expected, got cython_function_or_method\n",
      "To silence this warning, decorate the function with @tf.autograph.experimental.do_not_convert\n",
      "WARNING: AutoGraph could not transform <bound method Socket.send of <zmq.Socket(zmq.PUSH) at 0x29e910de280>> and will run it as-is.\n",
      "Please report this to the TensorFlow team. When filing the bug, set the verbosity to 10 (on Linux, `export AUTOGRAPH_VERBOSITY=10`) and attach the full output.\n",
      "Cause: module, class, method, function, traceback, frame, or code object was expected, got cython_function_or_method\n",
      "To silence this warning, decorate the function with @tf.autograph.experimental.do_not_convert\n",
      "WARNING:tensorflow:The parameter `return_dict` cannot be set in graph mode and will always be set to `True`.\n",
      "WARNING:tensorflow:From C:\\Users\\Home\\AppData\\Roaming\\Python\\Python38\\site-packages\\tensorflow\\python\\ops\\array_ops.py:5043: calling gather (from tensorflow.python.ops.array_ops) with validate_indices is deprecated and will be removed in a future version.\n",
      "Instructions for updating:\n",
      "The `validate_indices` argument has no effect. Indices are always validated on CPU and never validated on GPU.\n"
     ]
    },
    {
     "name": "stderr",
     "output_type": "stream",
     "text": [
      "C:\\Users\\Home\\AppData\\Roaming\\Python\\Python38\\site-packages\\tensorflow\\python\\keras\\optimizer_v2\\optimizer_v2.py:374: UserWarning: The `lr` argument is deprecated, use `learning_rate` instead.\n",
      "  warnings.warn(\n"
     ]
    }
   ],
   "source": [
    "model = model_KoELECTRA()"
   ]
  },
  {
   "cell_type": "code",
   "execution_count": 34,
   "id": "f25ce151",
   "metadata": {},
   "outputs": [
    {
     "name": "stdout",
     "output_type": "stream",
     "text": [
      "Model: \"model\"\n",
      "_________________________________________________________________\n",
      "Layer (type)                 Output Shape              Param #   \n",
      "=================================================================\n",
      "input_layer (InputLayer)     [(None, 90)]              0         \n",
      "_________________________________________________________________\n",
      "tf_electra_model (TFElectraM TFBaseModelOutput(last_hi 112330752 \n",
      "_________________________________________________________________\n",
      "tf.__operators__.getitem (Sl (None, 768)               0         \n",
      "_________________________________________________________________\n",
      "dense (Dense)                (None, 3)                 2307      \n",
      "=================================================================\n",
      "Total params: 112,333,059\n",
      "Trainable params: 112,333,059\n",
      "Non-trainable params: 0\n",
      "_________________________________________________________________\n"
     ]
    }
   ],
   "source": [
    "model.summary()"
   ]
  },
  {
   "cell_type": "code",
   "execution_count": 35,
   "id": "8f65cb50",
   "metadata": {},
   "outputs": [
    {
     "name": "stdout",
     "output_type": "stream",
     "text": [
      "Epoch 1/3\n",
      "WARNING:tensorflow:The parameters `output_attentions`, `output_hidden_states` and `use_cache` cannot be updated when calling a model.They have to be set to True/False in the config object (i.e.: `config=XConfig.from_pretrained('name', output_attentions=True)`).\n",
      "WARNING:tensorflow:The parameter `return_dict` cannot be set in graph mode and will always be set to `True`.\n",
      "WARNING:tensorflow:The parameters `output_attentions`, `output_hidden_states` and `use_cache` cannot be updated when calling a model.They have to be set to True/False in the config object (i.e.: `config=XConfig.from_pretrained('name', output_attentions=True)`).\n",
      "WARNING:tensorflow:The parameter `return_dict` cannot be set in graph mode and will always be set to `True`.\n",
      "1249/1249 [==============================] - ETA: 0s - loss: 0.5050 - accuracy: 0.7904WARNING:tensorflow:The parameters `output_attentions`, `output_hidden_states` and `use_cache` cannot be updated when calling a model.They have to be set to True/False in the config object (i.e.: `config=XConfig.from_pretrained('name', output_attentions=True)`).\n",
      "WARNING:tensorflow:The parameter `return_dict` cannot be set in graph mode and will always be set to `True`.\n",
      "1249/1249 [==============================] - 246s 191ms/step - loss: 0.5050 - accuracy: 0.7904 - val_loss: 0.3960 - val_accuracy: 0.8687\n",
      "Epoch 2/3\n",
      "1249/1249 [==============================] - 239s 191ms/step - loss: 0.2219 - accuracy: 0.9201 - val_loss: 0.4044 - val_accuracy: 0.8787\n",
      "Epoch 3/3\n",
      "1249/1249 [==============================] - 238s 190ms/step - loss: 0.1105 - accuracy: 0.9639 - val_loss: 0.4823 - val_accuracy: 0.8777\n"
     ]
    }
   ],
   "source": [
    "history = model.fit(train_dataset,steps_per_epoch=len(train) // 20 * strategy.num_replicas_in_sync,\n",
    "                  validation_data=valid_dataset,epochs= 3)"
   ]
  },
  {
   "cell_type": "code",
   "execution_count": 36,
   "id": "0a6c04c2",
   "metadata": {},
   "outputs": [
    {
     "data": {
      "image/png": "[encoded data removed]",
      "text/plain": [
       "<Figure size 432x288 with 1 Axes>"
      ]
     },
     "metadata": {},
     "output_type": "display_data"
    }
   ],
   "source": [
    "plt.plot(history.history['loss'], label='train')\n",
    "plt.plot(history.history['val_loss'], label='test')\n",
    "plt.legend()\n",
    "plt.show()"
   ]
  },
  {
   "cell_type": "code",
   "execution_count": 37,
   "id": "df1ec36b",
   "metadata": {},
   "outputs": [
    {
     "name": "stdout",
     "output_type": "stream",
     "text": [
      "WARNING:tensorflow:The parameters `output_attentions`, `output_hidden_states` and `use_cache` cannot be updated when calling a model.They have to be set to True/False in the config object (i.e.: `config=XConfig.from_pretrained('name', output_attentions=True)`).\n",
      "WARNING:tensorflow:The parameter `return_dict` cannot be set in graph mode and will always be set to `True`.\n",
      "150/150 [==============================] - 8s 47ms/step\n"
     ]
    }
   ],
   "source": [
    "pred = model.predict(test_dataset, verbose=1)\n",
    "pred_arg = pred.argmax(axis=1)"
   ]
  },
  {
   "cell_type": "code",
   "execution_count": 38,
   "id": "e28daf5a",
   "metadata": {},
   "outputs": [
    {
     "data": {
      "text/plain": [
       "3000"
      ]
     },
     "execution_count": 38,
     "metadata": {},
     "output_type": "execute_result"
    }
   ],
   "source": [
    "len(pred_arg)"
   ]
  },
  {
   "cell_type": "code",
   "execution_count": 39,
   "id": "25f4db16",
   "metadata": {},
   "outputs": [
    {
     "data": {
      "text/plain": [
       "array([2, 2, 1, ..., 0, 1, 0], dtype=int64)"
      ]
     },
     "execution_count": 39,
     "metadata": {},
     "output_type": "execute_result"
    }
   ],
   "source": [
    "pred_arg"
   ]
  },
  {
   "cell_type": "markdown",
   "id": "c991d519",
   "metadata": {},
   "source": [
    "## 4. Result"
   ]
  },
  {
   "cell_type": "code",
   "execution_count": 40,
   "id": "a99c3313",
   "metadata": {},
   "outputs": [
    {
     "data": {
      "text/plain": [
       "0.856"
      ]
     },
     "execution_count": 40,
     "metadata": {},
     "output_type": "execute_result"
    }
   ],
   "source": [
    "accuracy_score(test['label'], pred_arg)"
   ]
  }
 ],
 "metadata": {
  "kernelspec": {
   "display_name": "Python 3 (ipykernel)",
   "language": "python",
   "name": "python3"
  },
  "language_info": {
   "codemirror_mode": {
    "name": "ipython",
    "version": 3
   },
   "file_extension": ".py",
   "mimetype": "text/x-python",
   "name": "python",
   "nbconvert_exporter": "python",
   "pygments_lexer": "ipython3",
   "version": "3.8.5"
  }
 },
 "nbformat": 4,
 "nbformat_minor": 5
}
