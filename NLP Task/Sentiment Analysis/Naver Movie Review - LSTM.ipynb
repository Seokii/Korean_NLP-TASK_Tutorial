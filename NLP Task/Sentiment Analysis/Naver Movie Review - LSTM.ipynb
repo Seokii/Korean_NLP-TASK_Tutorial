{
 "cells": [
  {
   "cell_type": "markdown",
   "id": "545554ba",
   "metadata": {},
   "source": [
    "# 네이버 영화리뷰 감성 분석"
   ]
  },
  {
   "cell_type": "markdown",
   "id": "06bcfbf6",
   "metadata": {},
   "source": [
    "## 0) Import"
   ]
  },
  {
   "cell_type": "code",
   "execution_count": 1,
   "id": "74b2ca55",
   "metadata": {},
   "outputs": [],
   "source": [
    "import pandas as pd\n",
    "import numpy as np\n",
    "import tensorflow as tf\n",
    "import matplotlib.pyplot as plt\n",
    "import seaborn as sns\n",
    "import nltk\n",
    "\n",
    "from collections import Counter\n",
    "\n",
    "from sklearn.model_selection import train_test_split\n",
    "from sklearn.metrics import log_loss\n",
    "\n",
    "from konlpy.tag import Komoran\n",
    "\n",
    "import optuna"
   ]
  },
  {
   "cell_type": "markdown",
   "id": "c0974899",
   "metadata": {},
   "source": [
    "## 1) 데이터 불러오기"
   ]
  },
  {
   "cell_type": "code",
   "execution_count": 2,
   "id": "769f66f0",
   "metadata": {},
   "outputs": [],
   "source": [
    "train = pd.read_table(\"../../dataset/nsmc_train.txt\")\n",
    "test = pd.read_table(\"../../dataset/nsmc_test.txt\")"
   ]
  },
  {
   "cell_type": "code",
   "execution_count": 3,
   "id": "7a8cb17e",
   "metadata": {},
   "outputs": [
    {
     "data": {
      "text/html": [
       "<div>\n",
       "<style scoped>\n",
       "    .dataframe tbody tr th:only-of-type {\n",
       "        vertical-align: middle;\n",
       "    }\n",
       "\n",
       "    .dataframe tbody tr th {\n",
       "        vertical-align: top;\n",
       "    }\n",
       "\n",
       "    .dataframe thead th {\n",
       "        text-align: right;\n",
       "    }\n",
       "</style>\n",
       "<table border=\"1\" class=\"dataframe\">\n",
       "  <thead>\n",
       "    <tr style=\"text-align: right;\">\n",
       "      <th></th>\n",
       "      <th>id</th>\n",
       "      <th>document</th>\n",
       "      <th>label</th>\n",
       "    </tr>\n",
       "  </thead>\n",
       "  <tbody>\n",
       "    <tr>\n",
       "      <th>0</th>\n",
       "      <td>9976970</td>\n",
       "      <td>아 더빙.. 진짜 짜증나네요 목소리</td>\n",
       "      <td>0</td>\n",
       "    </tr>\n",
       "    <tr>\n",
       "      <th>1</th>\n",
       "      <td>3819312</td>\n",
       "      <td>흠...포스터보고 초딩영화줄....오버연기조차 가볍지 않구나</td>\n",
       "      <td>1</td>\n",
       "    </tr>\n",
       "    <tr>\n",
       "      <th>2</th>\n",
       "      <td>10265843</td>\n",
       "      <td>너무재밓었다그래서보는것을추천한다</td>\n",
       "      <td>0</td>\n",
       "    </tr>\n",
       "    <tr>\n",
       "      <th>3</th>\n",
       "      <td>9045019</td>\n",
       "      <td>교도소 이야기구먼 ..솔직히 재미는 없다..평점 조정</td>\n",
       "      <td>0</td>\n",
       "    </tr>\n",
       "    <tr>\n",
       "      <th>4</th>\n",
       "      <td>6483659</td>\n",
       "      <td>사이몬페그의 익살스런 연기가 돋보였던 영화!스파이더맨에서 늙어보이기만 했던 커스틴 ...</td>\n",
       "      <td>1</td>\n",
       "    </tr>\n",
       "  </tbody>\n",
       "</table>\n",
       "</div>"
      ],
      "text/plain": [
       "         id                                           document  label\n",
       "0   9976970                                아 더빙.. 진짜 짜증나네요 목소리      0\n",
       "1   3819312                  흠...포스터보고 초딩영화줄....오버연기조차 가볍지 않구나      1\n",
       "2  10265843                                  너무재밓었다그래서보는것을추천한다      0\n",
       "3   9045019                      교도소 이야기구먼 ..솔직히 재미는 없다..평점 조정      0\n",
       "4   6483659  사이몬페그의 익살스런 연기가 돋보였던 영화!스파이더맨에서 늙어보이기만 했던 커스틴 ...      1"
      ]
     },
     "execution_count": 3,
     "metadata": {},
     "output_type": "execute_result"
    }
   ],
   "source": [
    "train.head()"
   ]
  },
  {
   "cell_type": "code",
   "execution_count": 4,
   "id": "07c09dea",
   "metadata": {},
   "outputs": [
    {
     "data": {
      "text/html": [
       "<div>\n",
       "<style scoped>\n",
       "    .dataframe tbody tr th:only-of-type {\n",
       "        vertical-align: middle;\n",
       "    }\n",
       "\n",
       "    .dataframe tbody tr th {\n",
       "        vertical-align: top;\n",
       "    }\n",
       "\n",
       "    .dataframe thead th {\n",
       "        text-align: right;\n",
       "    }\n",
       "</style>\n",
       "<table border=\"1\" class=\"dataframe\">\n",
       "  <thead>\n",
       "    <tr style=\"text-align: right;\">\n",
       "      <th></th>\n",
       "      <th>id</th>\n",
       "      <th>document</th>\n",
       "      <th>label</th>\n",
       "    </tr>\n",
       "  </thead>\n",
       "  <tbody>\n",
       "    <tr>\n",
       "      <th>0</th>\n",
       "      <td>6270596</td>\n",
       "      <td>굳 ㅋ</td>\n",
       "      <td>1</td>\n",
       "    </tr>\n",
       "    <tr>\n",
       "      <th>1</th>\n",
       "      <td>9274899</td>\n",
       "      <td>GDNTOPCLASSINTHECLUB</td>\n",
       "      <td>0</td>\n",
       "    </tr>\n",
       "    <tr>\n",
       "      <th>2</th>\n",
       "      <td>8544678</td>\n",
       "      <td>뭐야 이 평점들은.... 나쁘진 않지만 10점 짜리는 더더욱 아니잖아</td>\n",
       "      <td>0</td>\n",
       "    </tr>\n",
       "    <tr>\n",
       "      <th>3</th>\n",
       "      <td>6825595</td>\n",
       "      <td>지루하지는 않은데 완전 막장임... 돈주고 보기에는....</td>\n",
       "      <td>0</td>\n",
       "    </tr>\n",
       "    <tr>\n",
       "      <th>4</th>\n",
       "      <td>6723715</td>\n",
       "      <td>3D만 아니었어도 별 다섯 개 줬을텐데.. 왜 3D로 나와서 제 심기를 불편하게 하죠??</td>\n",
       "      <td>0</td>\n",
       "    </tr>\n",
       "  </tbody>\n",
       "</table>\n",
       "</div>"
      ],
      "text/plain": [
       "        id                                           document  label\n",
       "0  6270596                                                굳 ㅋ      1\n",
       "1  9274899                               GDNTOPCLASSINTHECLUB      0\n",
       "2  8544678             뭐야 이 평점들은.... 나쁘진 않지만 10점 짜리는 더더욱 아니잖아      0\n",
       "3  6825595                   지루하지는 않은데 완전 막장임... 돈주고 보기에는....      0\n",
       "4  6723715  3D만 아니었어도 별 다섯 개 줬을텐데.. 왜 3D로 나와서 제 심기를 불편하게 하죠??      0"
      ]
     },
     "execution_count": 4,
     "metadata": {},
     "output_type": "execute_result"
    }
   ],
   "source": [
    "test.head()"
   ]
  },
  {
   "cell_type": "code",
   "execution_count": 5,
   "id": "38ca3119",
   "metadata": {},
   "outputs": [
    {
     "name": "stdout",
     "output_type": "stream",
     "text": [
      "train shape => (150000, 3) \n",
      "test shape => (50000, 3)\n"
     ]
    }
   ],
   "source": [
    "print(f\"train shape => {train.shape} \\ntest shape => {test.shape}\")"
   ]
  },
  {
   "cell_type": "code",
   "execution_count": 6,
   "id": "c676417e",
   "metadata": {},
   "outputs": [
    {
     "data": {
      "text/plain": [
       "Index(['id', 'document', 'label'], dtype='object')"
      ]
     },
     "execution_count": 6,
     "metadata": {},
     "output_type": "execute_result"
    }
   ],
   "source": [
    "train.columns"
   ]
  },
  {
   "cell_type": "markdown",
   "id": "c8281ff2",
   "metadata": {},
   "source": [
    "## 2) 훈련 데이터 라벨링 값 비율 확인"
   ]
  },
  {
   "cell_type": "code",
   "execution_count": 7,
   "id": "f2f518d1",
   "metadata": {},
   "outputs": [
    {
     "data": {
      "image/png": "[encoded data removed]",
      "text/plain": [
       "<Figure size 432x288 with 1 Axes>"
      ]
     },
     "metadata": {},
     "output_type": "display_data"
    }
   ],
   "source": [
    "sns.set_theme(style=\"darkgrid\")\n",
    "ax = sns.countplot(x=\"label\", data=train)"
   ]
  },
  {
   "cell_type": "code",
   "execution_count": 8,
   "id": "5cc8bc04",
   "metadata": {},
   "outputs": [
    {
     "data": {
      "image/png": "[encoded data removed]",
      "text/plain": [
       "<Figure size 360x360 with 1 Axes>"
      ]
     },
     "metadata": {},
     "output_type": "display_data"
    }
   ],
   "source": [
    "labels, frequencies = np.unique(train.label.values, return_counts=True)\n",
    "plt.figure(figsize=(5,5))\n",
    "plt.pie(frequencies, labels = labels, autopct= '%1.1f%%')\n",
    "plt.show()"
   ]
  },
  {
   "cell_type": "markdown",
   "id": "0430f972",
   "metadata": {},
   "source": [
    "## 3) 훈련, 테스트 데이터 결측치 값 확인"
   ]
  },
  {
   "cell_type": "code",
   "execution_count": 9,
   "id": "a76b139e",
   "metadata": {},
   "outputs": [
    {
     "data": {
      "text/plain": [
       "id          0\n",
       "document    5\n",
       "label       0\n",
       "dtype: int64"
      ]
     },
     "execution_count": 9,
     "metadata": {},
     "output_type": "execute_result"
    }
   ],
   "source": [
    "train.isnull().sum()"
   ]
  },
  {
   "cell_type": "code",
   "execution_count": 10,
   "id": "855ee64f",
   "metadata": {},
   "outputs": [
    {
     "data": {
      "text/plain": [
       "id          0\n",
       "document    3\n",
       "label       0\n",
       "dtype: int64"
      ]
     },
     "execution_count": 10,
     "metadata": {},
     "output_type": "execute_result"
    }
   ],
   "source": [
    "test.isnull().sum()"
   ]
  },
  {
   "cell_type": "markdown",
   "id": "20d2074d",
   "metadata": {},
   "source": [
    "### 4) 데이터 전처리\n",
    "- 데이터 중복제거(drop_duplicates)  \n",
    "- 결측치 제거(dropna)  \n",
    "- 한국어 토크나이저를 활용한 토큰화(Komoran)  \n",
    "- 불용어 제거(조사,구두점,접미사 종류)\n",
    "- Bag of Words, word to index, index to word 구현  \n",
    "- 문장 길이 분포와 적절 최대 문자 길이 지정  \n",
    "- 최대 문자 길이에 따른 패딩 추가(pad_sequences)"
   ]
  },
  {
   "cell_type": "code",
   "execution_count": 11,
   "id": "58a6ae28",
   "metadata": {},
   "outputs": [],
   "source": [
    "tokenizer = Komoran()\n",
    "\n",
    "def preprocess(train, test):\n",
    "    train.drop_duplicates(subset=['document'], inplace=True)\n",
    "    test.drop_duplicates(subset=['document'], inplace=True)\n",
    "    train = train.dropna()\n",
    "    test = test.dropna()\n",
    "    print(f\"train shape => {train.shape} \\ntest shape => {test.shape}\")\n",
    "    \n",
    "    train_tokenized = [[token+\"/\"+POS for token, POS in tokenizer.pos(doc_)] for doc_ in train['document']]\n",
    "    test_tokenized = [[token+\"/\"+POS for token, POS in tokenizer.pos(doc_)] for doc_ in test['document']]\n",
    "    \n",
    "    exclusion_tags = ['JKS', 'JKC', 'JKG', 'JKO', 'JKB', 'JKV', 'JKQ', 'JX', 'JC',\n",
    "                      'SF', 'SP', 'SS', 'SE', 'SO', 'EF', 'EP', 'EC', 'ETN', 'ETM',\n",
    "                      'XSN', 'XSV', 'XSA']\n",
    "    \n",
    "    f = lambda x: x in exclusion_tags\n",
    "    \n",
    "    X_train = []\n",
    "    for i in range(len(train_tokenized)):\n",
    "        temp = []\n",
    "        for j in range(len(train_tokenized[i])):\n",
    "            if f(train_tokenized[i][j].split('/')[1]) is False:\n",
    "                temp.append(train_tokenized[i][j].split('/')[0])\n",
    "        X_train.append(temp)\n",
    "    \n",
    "    X_test = []\n",
    "    for i in range(len(test_tokenized)):\n",
    "        temp = []\n",
    "        for j in range(len(test_tokenized[i])):\n",
    "            if f(test_tokenized[i][j].split('/')[1]) is False:\n",
    "                temp.append(test_tokenized[i][j].split('/')[0])\n",
    "        X_test.append(temp)\n",
    "    \n",
    "    words = np.concatenate(X_train).tolist()\n",
    "    counter = Counter(words)\n",
    "    counter = counter.most_common(30000-4)\n",
    "    vocab = ['<PAD>', '<BOS>', '<UNK>', '<UNUSED>'] + [key for key, _ in counter]\n",
    "    word_to_index = {word:index for index, word in enumerate(vocab)}\n",
    "    \n",
    "    def wordlist_to_indexlist(wordlist):\n",
    "        return [word_to_index[word] if word in word_to_index else word_to_index['<UNK>'] for word in wordlist]\n",
    "    \n",
    "    X_train = list(map(wordlist_to_indexlist, X_train))\n",
    "    X_test = list(map(wordlist_to_indexlist, X_test))\n",
    "    \n",
    "    return X_train, np.array(list(train['label'])), X_test, np.array(list(test['label'])), word_to_index"
   ]
  },
  {
   "cell_type": "code",
   "execution_count": 12,
   "id": "bcfaddf1",
   "metadata": {},
   "outputs": [
    {
     "name": "stdout",
     "output_type": "stream",
     "text": [
      "train shape => (146182, 3) \n",
      "test shape => (49157, 3)\n"
     ]
    }
   ],
   "source": [
    "X_train, y_train, X_test, y_test, word_to_index = preprocess(train, test)"
   ]
  },
  {
   "cell_type": "code",
   "execution_count": 13,
   "id": "40751c0b",
   "metadata": {},
   "outputs": [],
   "source": [
    "index_to_word = {index:word for word, index in word_to_index.items()}"
   ]
  },
  {
   "cell_type": "code",
   "execution_count": 14,
   "id": "e826219c",
   "metadata": {},
   "outputs": [
    {
     "name": "stdout",
     "output_type": "stream",
     "text": [
      "토큰 길이 평균: 10.763011994532581\n",
      "토큰 길이 최대: 140\n",
      "토큰 길이 표준편차: 8.886926944778248\n",
      "설정 최대 길이: 28\n",
      "전체 문장의 0.9356554502685076%가 설정값인 28에 포함됩니다.\n"
     ]
    }
   ],
   "source": [
    "all_data = list(X_train)+list(X_test)\n",
    "\n",
    "num_tokens = [len(tokens) for tokens in all_data]\n",
    "num_tokens = np.array(num_tokens)\n",
    "\n",
    "# 평균값, 최댓값, 표준편차\n",
    "print(f\"토큰 길이 평균: {np.mean(num_tokens)}\")\n",
    "print(f\"토큰 길이 최대: {np.max(num_tokens)}\")\n",
    "print(f\"토큰 길이 표준편차: {np.std(num_tokens)}\")\n",
    "\n",
    "max_tokens = np.mean(num_tokens) + 2 * np.std(num_tokens)\n",
    "maxlen = int(max_tokens)\n",
    "print(f'설정 최대 길이: {maxlen}')\n",
    "print(f'전체 문장의 {np.sum(num_tokens < max_tokens) / len(num_tokens)}%가 설정값인 {maxlen}에 포함됩니다.')"
   ]
  },
  {
   "cell_type": "markdown",
   "id": "ad089dcc",
   "metadata": {},
   "source": [
    "### max_len = 28이 아닌 임의 값을 정해 진행했습니다."
   ]
  },
  {
   "cell_type": "code",
   "execution_count": 15,
   "id": "4bd5a608",
   "metadata": {},
   "outputs": [],
   "source": [
    "X_train = tf.keras.preprocessing.sequence.pad_sequences(X_train,\n",
    "                                                       padding='pre',\n",
    "                                                       value=word_to_index[\"<PAD>\"],\n",
    "                                                       maxlen=70)\n",
    "\n",
    "X_test = tf.keras.preprocessing.sequence.pad_sequences(X_test,\n",
    "                                                       padding='pre',\n",
    "                                                       value=word_to_index[\"<PAD>\"],\n",
    "                                                       maxlen=70)"
   ]
  },
  {
   "cell_type": "code",
   "execution_count": 16,
   "id": "fc7ad14b",
   "metadata": {},
   "outputs": [
    {
     "name": "stdout",
     "output_type": "stream",
     "text": [
      "X_train 1번째 값 길이 : 70\n",
      "X_test 1번째 값 길이 : 70\n"
     ]
    }
   ],
   "source": [
    "print(f\"X_train 1번째 값 길이 : {len(X_train[0])}\\nX_test 1번째 값 길이 : {len(X_test[0])}\")"
   ]
  },
  {
   "cell_type": "markdown",
   "id": "a2c010ad",
   "metadata": {},
   "source": [
    "## 5) 모델링 - LSTM"
   ]
  },
  {
   "cell_type": "code",
   "execution_count": 17,
   "id": "449497d6",
   "metadata": {
    "scrolled": false
   },
   "outputs": [
    {
     "name": "stdout",
     "output_type": "stream",
     "text": [
      "Model: \"sequential\"\n",
      "_________________________________________________________________\n",
      "Layer (type)                 Output Shape              Param #   \n",
      "=================================================================\n",
      "embedding (Embedding)        (None, None, 16)          480000    \n",
      "_________________________________________________________________\n",
      "lstm (LSTM)                  (None, 8)                 800       \n",
      "_________________________________________________________________\n",
      "dense (Dense)                (None, 1)                 9         \n",
      "=================================================================\n",
      "Total params: 480,809\n",
      "Trainable params: 480,809\n",
      "Non-trainable params: 0\n",
      "_________________________________________________________________\n"
     ]
    }
   ],
   "source": [
    "vocab_size = 30000\n",
    "word_vector_dim = 16\n",
    "\n",
    "model = tf.keras.Sequential()\n",
    "model.add(tf.keras.layers.Embedding(vocab_size, word_vector_dim, input_shape=(None,)))\n",
    "model.add(tf.keras.layers.LSTM(units=8))\n",
    "model.add(tf.keras.layers.Dense(1, activation='sigmoid'))\n",
    "\n",
    "model.compile(optimizer='adam', loss='binary_crossentropy', metrics=['accuracy'])\n",
    "model.summary()"
   ]
  },
  {
   "cell_type": "code",
   "execution_count": 18,
   "id": "46ed3e3d",
   "metadata": {},
   "outputs": [],
   "source": [
    "X_train, X_val, y_train, y_val = train_test_split(X_train, y_train, test_size=0.2, shuffle=True,\n",
    "                                                  stratify=y_train, random_state=777)"
   ]
  },
  {
   "cell_type": "code",
   "execution_count": 19,
   "id": "ad26bd69",
   "metadata": {},
   "outputs": [
    {
     "name": "stdout",
     "output_type": "stream",
     "text": [
      "Epoch 1/10\n",
      "229/229 [==============================] - 7s 15ms/step - loss: 0.5365 - accuracy: 0.7668 - val_loss: 0.4124 - val_accuracy: 0.8183\n",
      "Epoch 2/10\n",
      "229/229 [==============================] - 2s 11ms/step - loss: 0.3697 - accuracy: 0.8415 - val_loss: 0.3828 - val_accuracy: 0.8304\n",
      "Epoch 3/10\n",
      "229/229 [==============================] - 3s 12ms/step - loss: 0.3297 - accuracy: 0.8633 - val_loss: 0.3790 - val_accuracy: 0.8325\n",
      "Epoch 4/10\n",
      "229/229 [==============================] - 3s 12ms/step - loss: 0.3061 - accuracy: 0.8767 - val_loss: 0.3815 - val_accuracy: 0.8317\n",
      "Epoch 5/10\n",
      "229/229 [==============================] - 2s 11ms/step - loss: 0.2884 - accuracy: 0.8857 - val_loss: 0.3893 - val_accuracy: 0.8304\n",
      "Epoch 6/10\n",
      "229/229 [==============================] - 3s 11ms/step - loss: 0.2744 - accuracy: 0.8927 - val_loss: 0.3981 - val_accuracy: 0.8299\n",
      "Epoch 7/10\n",
      "229/229 [==============================] - 2s 11ms/step - loss: 0.2632 - accuracy: 0.8978 - val_loss: 0.4078 - val_accuracy: 0.8275\n",
      "Epoch 8/10\n",
      "229/229 [==============================] - 2s 11ms/step - loss: 0.2524 - accuracy: 0.9017 - val_loss: 0.4199 - val_accuracy: 0.8268\n",
      "Epoch 9/10\n",
      "229/229 [==============================] - 2s 11ms/step - loss: 0.2425 - accuracy: 0.9062 - val_loss: 0.4290 - val_accuracy: 0.8229\n",
      "Epoch 10/10\n",
      "229/229 [==============================] - 2s 11ms/step - loss: 0.2335 - accuracy: 0.9104 - val_loss: 0.4409 - val_accuracy: 0.8201\n"
     ]
    }
   ],
   "source": [
    "history = model.fit(X_train, y_train, epochs=10, batch_size=512,\n",
    "                    validation_data=(X_val, y_val), verbose=1)"
   ]
  },
  {
   "cell_type": "code",
   "execution_count": 20,
   "id": "c847fe14",
   "metadata": {},
   "outputs": [
    {
     "name": "stdout",
     "output_type": "stream",
     "text": [
      "1537/1537 [==============================] - 6s 4ms/step - loss: 0.4363 - accuracy: 0.8258\n",
      "[0.436269611120224, 0.8258030414581299]\n"
     ]
    }
   ],
   "source": [
    "predict = model.evaluate(X_test, y_test, verbose=1)\n",
    "print(predict)"
   ]
  },
  {
   "cell_type": "code",
   "execution_count": 21,
   "id": "0fa812a3",
   "metadata": {},
   "outputs": [
    {
     "name": "stdout",
     "output_type": "stream",
     "text": [
      "dict_keys(['loss', 'accuracy', 'val_loss', 'val_accuracy'])\n"
     ]
    }
   ],
   "source": [
    "history_dict = history.history\n",
    "print(history_dict.keys())"
   ]
  },
  {
   "cell_type": "code",
   "execution_count": 22,
   "id": "96fcd68a",
   "metadata": {},
   "outputs": [
    {
     "data": {
      "image/png": "[encoded data removed]",
      "text/plain": [
       "<Figure size 432x288 with 1 Axes>"
      ]
     },
     "metadata": {},
     "output_type": "display_data"
    }
   ],
   "source": [
    "acc = history_dict['accuracy']\n",
    "val_acc = history_dict['val_accuracy']\n",
    "loss = history_dict['loss']\n",
    "val_loss = history_dict['val_loss']\n",
    "\n",
    "epochs = range(1, len(acc) + 1)\n",
    "\n",
    "plt.plot(epochs, loss, 'r', label='Training loss')\n",
    "plt.plot(epochs, val_loss, 'b', label='Validation loss')\n",
    "plt.title('Training and validation loss')\n",
    "plt.xlabel('Epochs')\n",
    "plt.ylabel('Loss')\n",
    "plt.legend()\n",
    "\n",
    "plt.show()"
   ]
  },
  {
   "cell_type": "markdown",
   "id": "de17343d",
   "metadata": {},
   "source": [
    "## 6) 모델링 - Stacked LSTM"
   ]
  },
  {
   "cell_type": "code",
   "execution_count": 23,
   "id": "fee41f5f",
   "metadata": {},
   "outputs": [
    {
     "name": "stdout",
     "output_type": "stream",
     "text": [
      "Model: \"sequential_1\"\n",
      "_________________________________________________________________\n",
      "Layer (type)                 Output Shape              Param #   \n",
      "=================================================================\n",
      "embedding_1 (Embedding)      (None, None, 16)          480000    \n",
      "_________________________________________________________________\n",
      "lstm_1 (LSTM)                (None, None, 8)           800       \n",
      "_________________________________________________________________\n",
      "lstm_2 (LSTM)                (None, 16)                1600      \n",
      "_________________________________________________________________\n",
      "dense_1 (Dense)              (None, 1)                 17        \n",
      "=================================================================\n",
      "Total params: 482,417\n",
      "Trainable params: 482,417\n",
      "Non-trainable params: 0\n",
      "_________________________________________________________________\n"
     ]
    }
   ],
   "source": [
    "vocab_size = 30000\n",
    "word_vector_dim = 16\n",
    "\n",
    "model = tf.keras.Sequential()\n",
    "model.add(tf.keras.layers.Embedding(vocab_size, word_vector_dim, input_shape=(None,)))\n",
    "model.add(tf.keras.layers.LSTM(units=8, return_sequences = True))\n",
    "model.add(tf.keras.layers.LSTM(units=16, return_sequences = False))\n",
    "model.add(tf.keras.layers.Dense(1, activation='sigmoid'))\n",
    "\n",
    "model.compile(optimizer='adam', loss='binary_crossentropy', metrics=['accuracy'])\n",
    "model.summary()"
   ]
  },
  {
   "cell_type": "code",
   "execution_count": 24,
   "id": "99f48ea9",
   "metadata": {},
   "outputs": [],
   "source": [
    "X_train, X_val, y_train, y_val = train_test_split(X_train, y_train, test_size=0.2, shuffle=True,\n",
    "                                                  stratify=y_train, random_state=42)"
   ]
  },
  {
   "cell_type": "code",
   "execution_count": 25,
   "id": "d2e2f811",
   "metadata": {},
   "outputs": [
    {
     "name": "stdout",
     "output_type": "stream",
     "text": [
      "Epoch 1/10\n",
      "183/183 [==============================] - 6s 25ms/step - loss: 0.5531 - accuracy: 0.7398 - val_loss: 0.4370 - val_accuracy: 0.8075\n",
      "Epoch 2/10\n",
      "183/183 [==============================] - 2s 13ms/step - loss: 0.3807 - accuracy: 0.8365 - val_loss: 0.3843 - val_accuracy: 0.8283\n",
      "Epoch 3/10\n",
      "183/183 [==============================] - 3s 17ms/step - loss: 0.3249 - accuracy: 0.8653 - val_loss: 0.3768 - val_accuracy: 0.8320\n",
      "Epoch 4/10\n",
      "183/183 [==============================] - 3s 15ms/step - loss: 0.2944 - accuracy: 0.8797 - val_loss: 0.3877 - val_accuracy: 0.8309\n",
      "Epoch 5/10\n",
      "183/183 [==============================] - 3s 14ms/step - loss: 0.2832 - accuracy: 0.8866 - val_loss: 0.3947 - val_accuracy: 0.8303\n",
      "Epoch 6/10\n",
      "183/183 [==============================] - 3s 15ms/step - loss: 0.2570 - accuracy: 0.8995 - val_loss: 0.4073 - val_accuracy: 0.8268\n",
      "Epoch 7/10\n",
      "183/183 [==============================] - 3s 14ms/step - loss: 0.2502 - accuracy: 0.9015 - val_loss: 0.4194 - val_accuracy: 0.8146\n",
      "Epoch 8/10\n",
      "183/183 [==============================] - 3s 15ms/step - loss: 0.2431 - accuracy: 0.9064 - val_loss: 0.4339 - val_accuracy: 0.8244\n",
      "Epoch 9/10\n",
      "183/183 [==============================] - 3s 14ms/step - loss: 0.2228 - accuracy: 0.9147 - val_loss: 0.4511 - val_accuracy: 0.8230\n",
      "Epoch 10/10\n",
      "183/183 [==============================] - 3s 14ms/step - loss: 0.2141 - accuracy: 0.9182 - val_loss: 0.4647 - val_accuracy: 0.8226\n"
     ]
    }
   ],
   "source": [
    "history = model.fit(X_train, y_train, epochs=10, batch_size=512,\n",
    "                    validation_data=(X_val, y_val), verbose=1)"
   ]
  },
  {
   "cell_type": "code",
   "execution_count": 26,
   "id": "5734d864",
   "metadata": {},
   "outputs": [
    {
     "name": "stdout",
     "output_type": "stream",
     "text": [
      "1537/1537 [==============================] - 9s 6ms/step - loss: 0.4723 - accuracy: 0.8188\n",
      "[0.47232693433761597, 0.8188254237174988]\n"
     ]
    }
   ],
   "source": [
    "predict = model.evaluate(X_test, y_test, verbose=1)\n",
    "print(predict)"
   ]
  },
  {
   "cell_type": "code",
   "execution_count": 27,
   "id": "abc447b0",
   "metadata": {},
   "outputs": [
    {
     "name": "stdout",
     "output_type": "stream",
     "text": [
      "dict_keys(['loss', 'accuracy', 'val_loss', 'val_accuracy'])\n"
     ]
    }
   ],
   "source": [
    "history_dict = history.history\n",
    "print(history_dict.keys())"
   ]
  },
  {
   "cell_type": "code",
   "execution_count": 28,
   "id": "a5c18e79",
   "metadata": {},
   "outputs": [
    {
     "data": {
      "image/png": "[encoded data removed]",
      "text/plain": [
       "<Figure size 432x288 with 1 Axes>"
      ]
     },
     "metadata": {},
     "output_type": "display_data"
    }
   ],
   "source": [
    "acc = history_dict['accuracy']\n",
    "val_acc = history_dict['val_accuracy']\n",
    "loss = history_dict['loss']\n",
    "val_loss = history_dict['val_loss']\n",
    "\n",
    "epochs = range(1, len(acc) + 1)\n",
    "\n",
    "plt.plot(epochs, loss, 'r', label='Training loss')\n",
    "plt.plot(epochs, val_loss, 'b', label='Validation loss')\n",
    "plt.title('Training and validation loss')\n",
    "plt.xlabel('Epochs')\n",
    "plt.ylabel('Loss')\n",
    "plt.legend()\n",
    "\n",
    "plt.show()"
   ]
  }
 ],
 "metadata": {
  "kernelspec": {
   "display_name": "Python 3 (ipykernel)",
   "language": "python",
   "name": "python3"
  },
  "language_info": {
   "codemirror_mode": {
    "name": "ipython",
    "version": 3
   },
   "file_extension": ".py",
   "mimetype": "text/x-python",
   "name": "python",
   "nbconvert_exporter": "python",
   "pygments_lexer": "ipython3",
   "version": "3.8.5"
  }
 },
 "nbformat": 4,
 "nbformat_minor": 5
}
